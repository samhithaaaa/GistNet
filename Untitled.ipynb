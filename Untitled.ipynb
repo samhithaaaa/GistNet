{
 "cells": [
  {
   "cell_type": "code",
   "execution_count": 1,
   "metadata": {},
   "outputs": [],
   "source": [
    "from pycocotools.coco import COCO"
   ]
  },
  {
   "cell_type": "code",
   "execution_count": 5,
   "metadata": {},
   "outputs": [],
   "source": [
    "from generator import create_generator\n",
    "from models import build_model, load_model"
   ]
  },
  {
   "cell_type": "code",
   "execution_count": 7,
   "metadata": {},
   "outputs": [],
   "source": [
    "from keras.callbacks import ModelCheckpoint"
   ]
  },
  {
   "cell_type": "code",
   "execution_count": 8,
   "metadata": {},
   "outputs": [],
   "source": [
    "# from keras_diagram import ascii\n",
    "from keras.optimizers import Adam"
   ]
  },
  {
   "cell_type": "code",
   "execution_count": 9,
   "metadata": {},
   "outputs": [],
   "source": [
    "add = None\n",
    "\n",
    "num_testing = 1000\n",
    "\n",
    "object_dim = 224\n",
    "\n",
    "context_dim = 448\n",
    "\n",
    "job_name = 'JOB_NAME'"
   ]
  },
  {
   "cell_type": "code",
   "execution_count": 10,
   "metadata": {},
   "outputs": [
    {
     "name": "stdout",
     "output_type": "stream",
     "text": [
      "loading annotations into memory...\n",
      "Done (t=8.71s)\n",
      "creating index...\n",
      "index created!\n",
      "loading annotations into memory...\n",
      "Done (t=3.77s)\n",
      "creating index...\n",
      "index created!\n"
     ]
    }
   ],
   "source": [
    "coco_train = COCO('./annotations/instances_train2014.json')\n",
    "coco_test = COCO('./annotations/instances_val2014.json')\n",
    "\n",
    "training_generator = create_generator(coco = coco_train, mode = 'training', add = add, object_dim = object_dim, testing_size = num_testing)\n",
    "testing_generator = create_generator(coco = coco_test, mode = 'testing', add = add, object_dim = object_dim, testing_size = num_testing)"
   ]
  },
  {
   "cell_type": "code",
   "execution_count": 14,
   "metadata": {},
   "outputs": [
    {
     "ename": "ValueError",
     "evalue": "Please specify a valid model.",
     "output_type": "error",
     "traceback": [
      "\u001b[0;31m---------------------------------------------------------------------------\u001b[0m",
      "\u001b[0;31mValueError\u001b[0m                                Traceback (most recent call last)",
      "\u001b[0;32m<ipython-input-14-d4ccf9d07f71>\u001b[0m in \u001b[0;36m<module>\u001b[0;34m\u001b[0m\n\u001b[0;32m----> 1\u001b[0;31m \u001b[0mmodel\u001b[0m \u001b[0;34m=\u001b[0m \u001b[0mbuild_model\u001b[0m\u001b[0;34m(\u001b[0m\u001b[0madd\u001b[0m \u001b[0;34m=\u001b[0m \u001b[0;32mNone\u001b[0m\u001b[0;34m,\u001b[0m \u001b[0mobject_dim\u001b[0m \u001b[0;34m=\u001b[0m \u001b[0mobject_dim\u001b[0m\u001b[0;34m,\u001b[0m \u001b[0mtesting_size\u001b[0m \u001b[0;34m=\u001b[0m \u001b[0mnum_testing\u001b[0m\u001b[0;34m)\u001b[0m\u001b[0;34m\u001b[0m\u001b[0;34m\u001b[0m\u001b[0m\n\u001b[0m",
      "\u001b[0;32m~/zhao/teaching/samhitha.m-ML/GistNet/models.py\u001b[0m in \u001b[0;36mbuild_model\u001b[0;34m(add, object_dim, **kwargs)\u001b[0m\n\u001b[1;32m     74\u001b[0m \u001b[0;34m\u001b[0m\u001b[0m\n\u001b[1;32m     75\u001b[0m         \u001b[0;32mif\u001b[0m \u001b[0madd\u001b[0m \u001b[0;34m==\u001b[0m \u001b[0;34m'gist'\u001b[0m\u001b[0;34m:\u001b[0m \u001b[0;32mreturn\u001b[0m \u001b[0mAddGist\u001b[0m\u001b[0;34m(\u001b[0m\u001b[0mObjectNet\u001b[0m\u001b[0;34m(\u001b[0m\u001b[0mobject_dim\u001b[0m\u001b[0;34m)\u001b[0m\u001b[0;34m,\u001b[0m \u001b[0mkwargs\u001b[0m\u001b[0;34m[\u001b[0m\u001b[0;34m'context_dim'\u001b[0m\u001b[0;34m]\u001b[0m\u001b[0;34m)\u001b[0m\u001b[0;34m\u001b[0m\u001b[0;34m\u001b[0m\u001b[0m\n\u001b[0;32m---> 76\u001b[0;31m         \u001b[0;32melse\u001b[0m\u001b[0;34m:\u001b[0m \u001b[0;32mraise\u001b[0m \u001b[0mValueError\u001b[0m\u001b[0;34m(\u001b[0m\u001b[0;34m'Please specify a valid model.'\u001b[0m\u001b[0;34m)\u001b[0m\u001b[0;34m\u001b[0m\u001b[0;34m\u001b[0m\u001b[0m\n\u001b[0m",
      "\u001b[0;31mValueError\u001b[0m: Please specify a valid model."
     ]
    }
   ],
   "source": [
    "model = build_model(add = None, object_dim = object_dim, testing_size = num_testing)"
   ]
  },
  {
   "cell_type": "code",
   "execution_count": null,
   "metadata": {},
   "outputs": [],
   "source": [
    "model.compile(loss = 'categorical_crossentropy', optimizer = Adam(1e-6, beta_1=.9, beta_2=.99), metrics = ['accuracy'])\n",
    "\n",
    "callbacks_list = [ModelCheckpoint('../model_weights/'+job_name+'.h5', monitor='val_loss', verbose=1, save_best_only=True, mode='min')]\n",
    "\n",
    "print(model.summary())\n",
    "\n",
    "history = model.fit_generator(\n",
    "    training_generator, \\\n",
    "    validation_steps = num_testing, \\\n",
    "    validation_data = testing_generator, \\\n",
    "    steps_per_epoch = 5000, \\\n",
    "    epochs = 500, \\\n",
    "    callbacks = callbacks_list,\\\n",
    "    verbose=2, \\\n",
    "    max_queue_size = 10, \\\n",
    "    workers = 1, \\\n",
    "    )"
   ]
  },
  {
   "cell_type": "code",
   "execution_count": null,
   "metadata": {},
   "outputs": [],
   "source": [
    "def train(add, num_testing, object_dim, job_name, **kwargs):\n",
    "\n",
    "\tcoco_train = COCO('../annotations/instances_train2014.json')\n",
    "\tcoco_test = COCO('../annotations/instances_val2014.json')\n",
    "\n",
    "\ttraining_generator = create_generator(coco = coco_train, mode = 'training', add = add, object_dim = object_dim, **kwargs)\n",
    "\ttesting_generator = create_generator(coco = coco_test, mode = 'testing', add = add, object_dim = object_dim, **kwargs)\n",
    "\n",
    "\tmodel = build_model(add = add, object_dim = object_dim, **kwargs)\n",
    "\n",
    "\tmodel.compile(loss = 'categorical_crossentropy', optimizer = Adam(1e-6, beta_1=.9, beta_2=.99), metrics = ['accuracy'])\n",
    "\n",
    "\tcallbacks_list = [ModelCheckpoint('../model_weights/'+job_name+'.h5', monitor='val_loss', verbose=1, save_best_only=True, mode='min')]\n",
    "\n",
    "\tprint(model.summary())\n",
    "\n",
    "\thistory = model.fit_generator(\n",
    "\t\ttraining_generator, \\\n",
    "\t\tvalidation_steps = num_testing, \\\n",
    "\t\tvalidation_data = testing_generator, \\\n",
    "\t\tsteps_per_epoch = 5000, \\\n",
    "\t\tepochs = 500, \\\n",
    "\t\tcallbacks = callbacks_list,\\\n",
    "\t\tverbose=2, \\\n",
    "\t\tmax_queue_size = 10, \\\n",
    "\t\tworkers = 1, \\\n",
    "\t\t)"
   ]
  },
  {
   "cell_type": "code",
   "execution_count": null,
   "metadata": {},
   "outputs": [],
   "source": [
    "if __name__ == '__main__':\n",
    "\n",
    "\tadd = None\n",
    "\n",
    "\tnum_testing = 1000\n",
    "\n",
    "\tobject_dim = 224\n",
    "\n",
    "\tcontext_dim = 448\n",
    "\n",
    "\tjob_name = 'JOB_NAME'\n",
    "\n",
    "\ttrain(add, num_testing, object_dim, job_name, context_dim = context_dim, testing_size = num_testing)"
   ]
  },
  {
   "cell_type": "code",
   "execution_count": null,
   "metadata": {},
   "outputs": [],
   "source": []
  }
 ],
 "metadata": {
  "kernelspec": {
   "display_name": "Python 3",
   "language": "python",
   "name": "python3"
  },
  "language_info": {
   "codemirror_mode": {
    "name": "ipython",
    "version": 3
   },
   "file_extension": ".py",
   "mimetype": "text/x-python",
   "name": "python",
   "nbconvert_exporter": "python",
   "pygments_lexer": "ipython3",
   "version": "3.8.3"
  }
 },
 "nbformat": 4,
 "nbformat_minor": 4
}
